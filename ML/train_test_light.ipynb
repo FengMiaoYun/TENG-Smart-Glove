{
 "cells": [
  {
   "cell_type": "code",
   "execution_count": 1,
   "id": "97d8ed0f",
   "metadata": {
    "ExecuteTime": {
     "end_time": "2023-01-08T08:13:26.411207Z",
     "start_time": "2023-01-08T08:13:25.396106Z"
    }
   },
   "outputs": [],
   "source": [
    "#Author: Tian Zhaoxu\n",
    "from basic import *\n",
    "from main import *"
   ]
  },
  {
   "cell_type": "code",
   "execution_count": 2,
   "id": "58da950e",
   "metadata": {
    "ExecuteTime": {
     "end_time": "2023-01-08T08:13:26.426207Z",
     "start_time": "2023-01-08T08:13:26.414211Z"
    }
   },
   "outputs": [],
   "source": [
    "multiple = [[18,18,8],[18,6,4]]"
   ]
  },
  {
   "cell_type": "code",
   "execution_count": 3,
   "id": "34e0f6f1",
   "metadata": {
    "ExecuteTime": {
     "end_time": "2023-01-08T08:24:07.930412Z",
     "start_time": "2023-01-08T08:13:26.429207Z"
    }
   },
   "outputs": [
    {
     "name": "stdout",
     "output_type": "stream",
     "text": [
      "(80352, 768)\n",
      "(80352,)\n",
      "(13392, 768)\n",
      "(13392,)\n"
     ]
    }
   ],
   "source": [
    "X_train = []\n",
    "for i in range(31):\n",
    "    for j in range(multiple[0][0]):\n",
    "        for p in range(multiple[0][1]):\n",
    "            for q in range(multiple[0][2]):\n",
    "                index = i*100000 + j*1000 + p*10 + q\n",
    "                train_path = os.path.join(PROCESSED_DATA_PATH, \"train\")\n",
    "                dataframe = load_data(str(index), train_path, skip_rows=False)\n",
    "                X_train.append(turn_to_1D(dataframe))\n",
    "X_train = np.array(X_train)\n",
    "X_train.reshape(31*multiple[0][0]*multiple[0][1]*multiple[0][2], -1)\n",
    "\n",
    "y_train = []\n",
    "for i in range(31):\n",
    "    for j in range(multiple[0][0]):\n",
    "        for p in range(multiple[0][1]):\n",
    "            for q in range(multiple[0][2]):\n",
    "                y_train.append(int(i/8))\n",
    "y_train = np.array(y_train)\n",
    "y_train.reshape(1, -1)\n",
    "\n",
    "X_test = []\n",
    "for i in range(31):\n",
    "    for j in range(multiple[1][0]):\n",
    "        for p in range(multiple[1][1]):\n",
    "            for q in range(multiple[1][2]):\n",
    "                index = i*100000 + j*1000 + p*10 + q\n",
    "                test_path = os.path.join(PROCESSED_DATA_PATH, \"test\")\n",
    "                dataframe = load_data(str(index), test_path, skip_rows=False)\n",
    "                X_test.append(turn_to_1D(dataframe))\n",
    "X_test = np.array(X_test)\n",
    "X_test.reshape(31*multiple[1][0]*multiple[1][1]*multiple[1][2], -1)\n",
    "\n",
    "y_test = []\n",
    "for i in range(31):\n",
    "    for j in range(multiple[1][0]):\n",
    "        for p in range(multiple[1][1]):\n",
    "            for q in range(multiple[1][2]):\n",
    "                y_test.append(int(i/8))\n",
    "y_test = np.array(y_test)\n",
    "y_test.reshape(1, -1)\n",
    "\n",
    "print(X_train.shape)\n",
    "print(y_train.shape)\n",
    "print(X_test.shape)\n",
    "print(y_test.shape)"
   ]
  },
  {
   "cell_type": "code",
   "execution_count": 4,
   "id": "c18b0dd3",
   "metadata": {
    "ExecuteTime": {
     "end_time": "2023-01-08T08:24:08.162317Z",
     "start_time": "2023-01-08T08:24:07.933321Z"
    }
   },
   "outputs": [],
   "source": [
    "shuffle_index = np.random.permutation(31*multiple[0][0]*multiple[0][1]*multiple[0][2])\n",
    "X_train, y_train = X_train[shuffle_index], y_train[shuffle_index]\n",
    "shuffle_index = np.random.permutation(31*multiple[1][0]*multiple[1][1]*multiple[1][2])\n",
    "X_test, y_test = X_test[shuffle_index], y_test[shuffle_index]"
   ]
  },
  {
   "cell_type": "code",
   "execution_count": 5,
   "id": "81865690",
   "metadata": {
    "ExecuteTime": {
     "end_time": "2023-01-08T08:24:08.177321Z",
     "start_time": "2023-01-08T08:24:08.164320Z"
    }
   },
   "outputs": [
    {
     "data": {
      "text/plain": [
       "0"
      ]
     },
     "execution_count": 5,
     "metadata": {},
     "output_type": "execute_result"
    }
   ],
   "source": [
    "sample_data = X_test[100]\n",
    "sample_label = y_test[100]\n",
    "sample_label"
   ]
  },
  {
   "cell_type": "code",
   "execution_count": 6,
   "id": "c2c2fbb4",
   "metadata": {
    "ExecuteTime": {
     "end_time": "2023-01-08T08:24:08.851754Z",
     "start_time": "2023-01-08T08:24:08.180320Z"
    }
   },
   "outputs": [],
   "source": [
    "from sklearn.linear_model import SGDClassifier\n",
    "from sklearn.neighbors import KNeighborsClassifier\n",
    "from sklearn import tree\n",
    "from sklearn.ensemble import RandomForestClassifier\n",
    "from sklearn.ensemble import GradientBoostingClassifier\n",
    "from sklearn.svm import SVC\n",
    "\n",
    "import joblib"
   ]
  },
  {
   "cell_type": "code",
   "execution_count": 7,
   "id": "0d801d2c",
   "metadata": {
    "ExecuteTime": {
     "end_time": "2023-01-08T08:24:12.328940Z",
     "start_time": "2023-01-08T08:24:08.853757Z"
    }
   },
   "outputs": [
    {
     "data": {
      "text/plain": [
       "['models/sgd_clf.pkl']"
      ]
     },
     "execution_count": 7,
     "metadata": {},
     "output_type": "execute_result"
    }
   ],
   "source": [
    "sgd_clf = SGDClassifier(random_state=42)\n",
    "sgd_clf.fit(X_train,y_train)\n",
    "joblib.dump(sgd_clf, \"models/sgd_clf.pkl\")"
   ]
  },
  {
   "cell_type": "code",
   "execution_count": 8,
   "id": "e80fcacf",
   "metadata": {
    "ExecuteTime": {
     "end_time": "2023-01-08T08:24:12.729456Z",
     "start_time": "2023-01-08T08:24:12.330956Z"
    }
   },
   "outputs": [
    {
     "data": {
      "text/plain": [
       "['models/kn_clf.pkl']"
      ]
     },
     "execution_count": 8,
     "metadata": {},
     "output_type": "execute_result"
    }
   ],
   "source": [
    "kn_clf = KNeighborsClassifier()\n",
    "kn_clf.fit(X_train, y_train)\n",
    "joblib.dump(kn_clf, \"models/kn_clf.pkl\")"
   ]
  },
  {
   "cell_type": "code",
   "execution_count": 9,
   "id": "5324b17f",
   "metadata": {
    "ExecuteTime": {
     "end_time": "2023-01-08T08:26:27.302269Z",
     "start_time": "2023-01-08T08:24:12.731673Z"
    }
   },
   "outputs": [
    {
     "data": {
      "text/plain": [
       "['models/dt_clf.pkl']"
      ]
     },
     "execution_count": 9,
     "metadata": {},
     "output_type": "execute_result"
    }
   ],
   "source": [
    "dt_clf = tree.DecisionTreeClassifier()\n",
    "dt_clf.fit(X_train, y_train)\n",
    "joblib.dump(dt_clf, \"models/dt_clf.pkl\")"
   ]
  },
  {
   "cell_type": "code",
   "execution_count": 10,
   "id": "445dd102",
   "metadata": {
    "ExecuteTime": {
     "end_time": "2023-01-08T08:27:19.480008Z",
     "start_time": "2023-01-08T08:26:27.305263Z"
    }
   },
   "outputs": [
    {
     "data": {
      "text/plain": [
       "['models/rf_clf.pkl']"
      ]
     },
     "execution_count": 10,
     "metadata": {},
     "output_type": "execute_result"
    }
   ],
   "source": [
    "rf_clf = RandomForestClassifier(n_estimators=20)\n",
    "rf_clf.fit(X_train, y_train)\n",
    "joblib.dump(rf_clf, \"models/rf_clf.pkl\")"
   ]
  },
  {
   "cell_type": "code",
   "execution_count": 11,
   "id": "1b9e3ede",
   "metadata": {
    "ExecuteTime": {
     "end_time": "2023-01-08T08:50:29.779786Z",
     "start_time": "2023-01-08T08:27:19.482049Z"
    }
   },
   "outputs": [
    {
     "data": {
      "text/plain": [
       "['models/gb_clf.pkl']"
      ]
     },
     "execution_count": 11,
     "metadata": {},
     "output_type": "execute_result"
    }
   ],
   "source": [
    "gb_clf = GradientBoostingClassifier(n_estimators=20)\n",
    "gb_clf.fit(X_train, y_train)\n",
    "joblib.dump(gb_clf, \"models/gb_clf.pkl\")"
   ]
  },
  {
   "cell_type": "code",
   "execution_count": 12,
   "id": "bf382944",
   "metadata": {
    "ExecuteTime": {
     "end_time": "2023-01-08T09:21:20.861541Z",
     "start_time": "2023-01-08T08:50:29.781787Z"
    }
   },
   "outputs": [
    {
     "data": {
      "text/plain": [
       "['models/svc_clf.pkl']"
      ]
     },
     "execution_count": 12,
     "metadata": {},
     "output_type": "execute_result"
    }
   ],
   "source": [
    "svc_clf = SVC(kernel='rbf', probability=True)\n",
    "svc_clf.fit(X_train, y_train)\n",
    "joblib.dump(svc_clf, \"models/svc_clf.pkl\")"
   ]
  },
  {
   "cell_type": "code",
   "execution_count": 13,
   "id": "2aef5fcb",
   "metadata": {
    "ExecuteTime": {
     "end_time": "2023-01-08T09:21:20.876537Z",
     "start_time": "2023-01-08T09:21:20.863542Z"
    }
   },
   "outputs": [],
   "source": [
    "from sklearn.model_selection import cross_val_score"
   ]
  },
  {
   "cell_type": "code",
   "execution_count": 14,
   "id": "a2ddbced",
   "metadata": {
    "ExecuteTime": {
     "end_time": "2023-01-08T09:21:37.588533Z",
     "start_time": "2023-01-08T09:21:20.878539Z"
    }
   },
   "outputs": [
    {
     "data": {
      "text/plain": [
       "array([0.99751104, 0.99632879, 0.99533292, 0.99632856, 0.99589297])"
      ]
     },
     "execution_count": 14,
     "metadata": {},
     "output_type": "execute_result"
    }
   ],
   "source": [
    "cross_val_score(sgd_clf, X_train, y_train, cv=5, scoring=\"accuracy\")"
   ]
  },
  {
   "cell_type": "code",
   "execution_count": 15,
   "id": "0530cd70",
   "metadata": {
    "ExecuteTime": {
     "end_time": "2023-01-08T09:23:39.824448Z",
     "start_time": "2023-01-08T09:21:37.590536Z"
    }
   },
   "outputs": [
    {
     "data": {
      "text/plain": [
       "array([1.        , 1.        , 0.99993777, 1.        , 0.99993777])"
      ]
     },
     "execution_count": 15,
     "metadata": {},
     "output_type": "execute_result"
    }
   ],
   "source": [
    "cross_val_score(kn_clf, X_train, y_train, cv=5, scoring=\"accuracy\")"
   ]
  },
  {
   "cell_type": "code",
   "execution_count": 16,
   "id": "7ec17b4c",
   "metadata": {
    "ExecuteTime": {
     "end_time": "2023-01-08T09:32:31.275597Z",
     "start_time": "2023-01-08T09:23:39.827448Z"
    }
   },
   "outputs": [
    {
     "data": {
      "text/plain": [
       "array([0.9598656 , 0.95582104, 0.9542626 , 0.95588052, 0.96795271])"
      ]
     },
     "execution_count": 16,
     "metadata": {},
     "output_type": "execute_result"
    }
   ],
   "source": [
    "cross_val_score(dt_clf, X_train, y_train, cv=5, scoring=\"accuracy\")"
   ]
  },
  {
   "cell_type": "code",
   "execution_count": 17,
   "id": "07080f36",
   "metadata": {
    "ExecuteTime": {
     "end_time": "2023-01-08T09:35:53.963810Z",
     "start_time": "2023-01-08T09:32:31.277592Z"
    }
   },
   "outputs": [
    {
     "data": {
      "text/plain": [
       "array([0.99178645, 0.98736855, 0.9876789 , 0.98842564, 0.9858743 ])"
      ]
     },
     "execution_count": 17,
     "metadata": {},
     "output_type": "execute_result"
    }
   ],
   "source": [
    "cross_val_score(rf_clf, X_train, y_train, cv=5, scoring=\"accuracy\")"
   ]
  },
  {
   "cell_type": "code",
   "execution_count": 18,
   "id": "8eac8b86",
   "metadata": {
    "ExecuteTime": {
     "end_time": "2023-01-08T11:03:58.158188Z",
     "start_time": "2023-01-08T09:35:53.965802Z"
    }
   },
   "outputs": [
    {
     "data": {
      "text/plain": [
       "array([0.89334827, 0.89571277, 0.89508401, 0.89085252, 0.89203485])"
      ]
     },
     "execution_count": 18,
     "metadata": {},
     "output_type": "execute_result"
    }
   ],
   "source": [
    "cross_val_score(gb_clf, X_train, y_train, cv=5, scoring=\"accuracy\")"
   ]
  },
  {
   "cell_type": "code",
   "execution_count": 19,
   "id": "11109144",
   "metadata": {
    "ExecuteTime": {
     "end_time": "2023-01-08T12:58:41.865891Z",
     "start_time": "2023-01-08T11:03:58.161170Z"
    }
   },
   "outputs": [
    {
     "data": {
      "text/plain": [
       "array([1., 1., 1., 1., 1.])"
      ]
     },
     "execution_count": 19,
     "metadata": {},
     "output_type": "execute_result"
    }
   ],
   "source": [
    "cross_val_score(svc_clf, X_train, y_train, cv=5, scoring=\"accuracy\")"
   ]
  },
  {
   "cell_type": "code",
   "execution_count": null,
   "id": "d947ed2a",
   "metadata": {},
   "outputs": [],
   "source": []
  }
 ],
 "metadata": {
  "kernelspec": {
   "display_name": "Python 3 (ipykernel)",
   "language": "python",
   "name": "python3"
  },
  "language_info": {
   "codemirror_mode": {
    "name": "ipython",
    "version": 3
   },
   "file_extension": ".py",
   "mimetype": "text/x-python",
   "name": "python",
   "nbconvert_exporter": "python",
   "pygments_lexer": "ipython3",
   "version": "3.7.15"
  }
 },
 "nbformat": 4,
 "nbformat_minor": 5
}
