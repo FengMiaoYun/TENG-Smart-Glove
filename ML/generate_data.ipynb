{
 "cells": [
  {
   "cell_type": "code",
   "execution_count": 1,
   "id": "cf416679",
   "metadata": {
    "ExecuteTime": {
     "end_time": "2023-01-07T13:26:54.567781Z",
     "start_time": "2023-01-07T13:26:53.588564Z"
    }
   },
   "outputs": [],
   "source": [
    "#Author Tian Zhaoxu\n",
    "from basic import *\n",
    "from main import *"
   ]
  },
  {
   "cell_type": "code",
   "execution_count": 2,
   "id": "74cc3807",
   "metadata": {
    "ExecuteTime": {
     "end_time": "2023-01-07T13:31:51.174190Z",
     "start_time": "2023-01-07T13:26:54.570777Z"
    }
   },
   "outputs": [],
   "source": [
    "X_train, y_train = data_preprocessing(multiple1=18, multiple2=18, multiple3=8)"
   ]
  },
  {
   "cell_type": "code",
   "execution_count": 3,
   "id": "283d3d59",
   "metadata": {
    "ExecuteTime": {
     "end_time": "2023-01-07T13:31:51.190175Z",
     "start_time": "2023-01-07T13:31:51.177174Z"
    }
   },
   "outputs": [
    {
     "data": {
      "text/plain": [
       "array([[ 0.01897862,  0.01476075, -0.04444445, ..., -0.04040228,\n",
       "        -0.04044214, -0.04016885],\n",
       "       [ 0.01897862,  0.01476075, -0.04444445, ..., -0.01712944,\n",
       "        -0.01691905, -0.01639552],\n",
       "       [ 0.01897862,  0.01476075, -0.04444445, ...,  0.07974338,\n",
       "         0.08099541,  0.08256058],\n",
       "       ...,\n",
       "       [-0.00378156, -0.07418316, -0.05243887, ...,  2.88116487,\n",
       "         2.91185528,  2.95399809],\n",
       "       [-0.00378156, -0.07418316, -0.05243887, ...,  3.48743391,\n",
       "         3.52464334,  3.57330517],\n",
       "       [-0.00378156, -0.07418316, -0.05243887, ...,  3.48841645,\n",
       "         3.52563645,  3.57430884]])"
      ]
     },
     "execution_count": 3,
     "metadata": {},
     "output_type": "execute_result"
    }
   ],
   "source": [
    "X_train"
   ]
  },
  {
   "cell_type": "code",
   "execution_count": 4,
   "id": "e798dca0",
   "metadata": {
    "ExecuteTime": {
     "end_time": "2023-01-07T13:31:51.206242Z",
     "start_time": "2023-01-07T13:31:51.191176Z"
    }
   },
   "outputs": [
    {
     "data": {
      "text/plain": [
       "array([0, 0, 0, ..., 3, 3, 3])"
      ]
     },
     "execution_count": 4,
     "metadata": {},
     "output_type": "execute_result"
    }
   ],
   "source": [
    "y_train"
   ]
  },
  {
   "cell_type": "code",
   "execution_count": 5,
   "id": "da4dc73c",
   "metadata": {
    "ExecuteTime": {
     "end_time": "2023-01-07T13:31:51.222297Z",
     "start_time": "2023-01-07T13:31:51.209230Z"
    }
   },
   "outputs": [
    {
     "name": "stdout",
     "output_type": "stream",
     "text": [
      "(80352, 768)\n",
      "(80352,)\n"
     ]
    }
   ],
   "source": [
    "print(X_train.shape)\n",
    "print(y_train.shape)"
   ]
  },
  {
   "cell_type": "code",
   "execution_count": 10,
   "id": "7da7ca91",
   "metadata": {
    "ExecuteTime": {
     "end_time": "2023-01-07T13:54:08.516540Z",
     "start_time": "2023-01-07T13:53:13.839243Z"
    }
   },
   "outputs": [],
   "source": [
    "X_test, y_test = data_preprocessing(multiple1=18, multiple2=6, multiple3=4, usage=\"test\")"
   ]
  },
  {
   "cell_type": "code",
   "execution_count": 11,
   "id": "db8dcc63",
   "metadata": {
    "ExecuteTime": {
     "end_time": "2023-01-07T13:54:32.859572Z",
     "start_time": "2023-01-07T13:54:32.847584Z"
    }
   },
   "outputs": [
    {
     "data": {
      "text/plain": [
       "array([[ 0.03467035,  0.08492263,  0.04857322, ...,  0.01251385,\n",
       "         0.01315544,  0.0140149 ],\n",
       "       [ 0.03467035,  0.08492263,  0.04857322, ...,  0.10089562,\n",
       "         0.10248755,  0.10429736],\n",
       "       [ 0.03467035,  0.08492263,  0.04857322, ...,  0.16360912,\n",
       "         0.16587539,  0.16835954],\n",
       "       ...,\n",
       "       [-0.16391299, -0.11312753, -0.16695562, ...,  0.37076585,\n",
       "         0.37978037,  0.38621286],\n",
       "       [-0.16391299, -0.11312753, -0.16695562, ...,  0.50440899,\n",
       "         0.51486054,  0.52273005],\n",
       "       [-0.16391299, -0.11312753, -0.16695562, ...,  0.50602246,\n",
       "         0.51649135,  0.52437821]])"
      ]
     },
     "execution_count": 11,
     "metadata": {},
     "output_type": "execute_result"
    }
   ],
   "source": [
    "X_test"
   ]
  },
  {
   "cell_type": "code",
   "execution_count": 12,
   "id": "2b8c333a",
   "metadata": {
    "ExecuteTime": {
     "end_time": "2023-01-07T13:54:39.504965Z",
     "start_time": "2023-01-07T13:54:39.487963Z"
    }
   },
   "outputs": [
    {
     "data": {
      "text/plain": [
       "array([0, 0, 0, ..., 3, 3, 3])"
      ]
     },
     "execution_count": 12,
     "metadata": {},
     "output_type": "execute_result"
    }
   ],
   "source": [
    "y_test"
   ]
  },
  {
   "cell_type": "code",
   "execution_count": 13,
   "id": "67373555",
   "metadata": {
    "ExecuteTime": {
     "end_time": "2023-01-07T13:54:41.501610Z",
     "start_time": "2023-01-07T13:54:41.488608Z"
    }
   },
   "outputs": [
    {
     "name": "stdout",
     "output_type": "stream",
     "text": [
      "(13392, 768)\n",
      "(13392,)\n"
     ]
    }
   ],
   "source": [
    "print(X_test.shape)\n",
    "print(y_test.shape)"
   ]
  }
 ],
 "metadata": {
  "kernelspec": {
   "display_name": "Python 3 (ipykernel)",
   "language": "python",
   "name": "python3"
  },
  "language_info": {
   "codemirror_mode": {
    "name": "ipython",
    "version": 3
   },
   "file_extension": ".py",
   "mimetype": "text/x-python",
   "name": "python",
   "nbconvert_exporter": "python",
   "pygments_lexer": "ipython3",
   "version": "3.7.15"
  }
 },
 "nbformat": 4,
 "nbformat_minor": 5
}
