{
 "cells": [
  {
   "cell_type": "code",
   "execution_count": 22,
   "id": "7a4a4e44",
   "metadata": {
    "ExecuteTime": {
     "end_time": "2023-01-08T13:05:28.738860Z",
     "start_time": "2023-01-08T13:05:28.730873Z"
    }
   },
   "outputs": [],
   "source": [
    "#Author: Tian Zhaoxu\n",
    "from basic import *\n",
    "from main import *"
   ]
  },
  {
   "cell_type": "code",
   "execution_count": 2,
   "id": "743d0620",
   "metadata": {
    "ExecuteTime": {
     "end_time": "2023-01-08T12:17:29.975421Z",
     "start_time": "2023-01-08T12:17:29.962421Z"
    }
   },
   "outputs": [],
   "source": [
    "multiple = [[12,18,8],[12,6,4]]"
   ]
  },
  {
   "cell_type": "code",
   "execution_count": 3,
   "id": "fc1acb58",
   "metadata": {
    "ExecuteTime": {
     "end_time": "2023-01-08T12:25:51.728064Z",
     "start_time": "2023-01-08T12:17:29.976423Z"
    }
   },
   "outputs": [
    {
     "name": "stdout",
     "output_type": "stream",
     "text": [
      "(53568, 768)\n",
      "(53568,)\n",
      "(8928, 768)\n",
      "(8928,)\n"
     ]
    }
   ],
   "source": [
    "X_train = []\n",
    "for i in range(31):\n",
    "    for j in range(multiple[0][0]):\n",
    "        for p in range(multiple[0][1]):\n",
    "            for q in range(multiple[0][2]):\n",
    "                index = i*100000 + j*1000 + p*10 + q\n",
    "                train_path = os.path.join(PROCESSED_DATA_PATH, \"train\")\n",
    "                dataframe = load_data(str(index), train_path, skip_rows=False)\n",
    "                X_train.append(turn_to_1D(dataframe))\n",
    "X_train = np.array(X_train)\n",
    "X_train.reshape(31*multiple[0][0]*multiple[0][1]*multiple[0][2], -1)\n",
    "\n",
    "y_train = []\n",
    "for i in range(31):\n",
    "    for j in range(multiple[0][0]):\n",
    "        for p in range(multiple[0][1]):\n",
    "            for q in range(multiple[0][2]):\n",
    "                y_train.append(int(i/8))\n",
    "y_train = np.array(y_train)\n",
    "y_train.reshape(1, -1)\n",
    "\n",
    "X_test = []\n",
    "for i in range(31):\n",
    "    for j in range(multiple[1][0]):\n",
    "        for p in range(multiple[1][1]):\n",
    "            for q in range(multiple[1][2]):\n",
    "                index = i*100000 + j*1000 + p*10 + q\n",
    "                test_path = os.path.join(PROCESSED_DATA_PATH, \"test\")\n",
    "                dataframe = load_data(str(index), test_path, skip_rows=False)\n",
    "                X_test.append(turn_to_1D(dataframe))\n",
    "X_test = np.array(X_test)\n",
    "X_test.reshape(31*multiple[1][0]*multiple[1][1]*multiple[1][2], -1)\n",
    "\n",
    "y_test = []\n",
    "for i in range(31):\n",
    "    for j in range(multiple[1][0]):\n",
    "        for p in range(multiple[1][1]):\n",
    "            for q in range(multiple[1][2]):\n",
    "                y_test.append(int(i/8))\n",
    "y_test = np.array(y_test)\n",
    "y_test.reshape(1, -1)\n",
    "\n",
    "print(X_train.shape)\n",
    "print(y_train.shape)\n",
    "print(X_test.shape)\n",
    "print(y_test.shape)"
   ]
  },
  {
   "cell_type": "code",
   "execution_count": 4,
   "id": "10a34063",
   "metadata": {
    "ExecuteTime": {
     "end_time": "2023-01-08T12:25:51.883940Z",
     "start_time": "2023-01-08T12:25:51.731064Z"
    }
   },
   "outputs": [],
   "source": [
    "shuffle_index = np.random.permutation(31*multiple[0][0]*multiple[0][1]*multiple[0][2])\n",
    "X_train, y_train = X_train[shuffle_index], y_train[shuffle_index]\n",
    "shuffle_index = np.random.permutation(31*multiple[1][0]*multiple[1][1]*multiple[1][2])\n",
    "X_test, y_test = X_test[shuffle_index], y_test[shuffle_index]"
   ]
  },
  {
   "cell_type": "code",
   "execution_count": 5,
   "id": "d3ec67c6",
   "metadata": {
    "ExecuteTime": {
     "end_time": "2023-01-08T12:25:52.963939Z",
     "start_time": "2023-01-08T12:25:51.886928Z"
    }
   },
   "outputs": [],
   "source": [
    "from sklearn.ensemble import RandomForestClassifier\n",
    "import joblib\n",
    "from sklearn.model_selection import cross_val_score"
   ]
  },
  {
   "cell_type": "code",
   "execution_count": 6,
   "id": "f0d76a0c",
   "metadata": {
    "ExecuteTime": {
     "end_time": "2023-01-08T12:25:52.979946Z",
     "start_time": "2023-01-08T12:25:52.965939Z"
    }
   },
   "outputs": [],
   "source": [
    "rf_clf_5 = RandomForestClassifier(n_estimators=5)\n",
    "rf_clf_10 = RandomForestClassifier(n_estimators=10)\n",
    "rf_clf_20 = RandomForestClassifier(n_estimators=20)\n",
    "rf_clf_40 = RandomForestClassifier(n_estimators=40)\n",
    "rf_clf_80 = RandomForestClassifier(n_estimators=80)"
   ]
  },
  {
   "cell_type": "code",
   "execution_count": 7,
   "id": "1dd163b0",
   "metadata": {
    "ExecuteTime": {
     "end_time": "2023-01-08T12:26:24.523180Z",
     "start_time": "2023-01-08T12:25:52.981943Z"
    }
   },
   "outputs": [
    {
     "data": {
      "text/plain": [
       "array([0.95146537, 0.96453239, 0.96761247, 0.95342108, 0.94558014])"
      ]
     },
     "execution_count": 7,
     "metadata": {},
     "output_type": "execute_result"
    }
   ],
   "source": [
    "cross_val_score(rf_clf_5, X_train, y_train, cv=5, scoring=\"accuracy\")"
   ]
  },
  {
   "cell_type": "code",
   "execution_count": 18,
   "id": "90d58056",
   "metadata": {
    "ExecuteTime": {
     "end_time": "2023-01-08T12:59:18.972311Z",
     "start_time": "2023-01-08T12:58:20.077527Z"
    }
   },
   "outputs": [
    {
     "data": {
      "text/plain": [
       "array([0.9838529 , 0.98394624, 0.98179951, 0.98291795, 0.97965089])"
      ]
     },
     "execution_count": 18,
     "metadata": {},
     "output_type": "execute_result"
    }
   ],
   "source": [
    "cross_val_score(rf_clf_10, X_train, y_train, cv=5, scoring=\"accuracy\")"
   ]
  },
  {
   "cell_type": "code",
   "execution_count": 19,
   "id": "c38ba739",
   "metadata": {
    "ExecuteTime": {
     "end_time": "2023-01-08T13:01:15.338472Z",
     "start_time": "2023-01-08T12:59:18.975304Z"
    }
   },
   "outputs": [
    {
     "data": {
      "text/plain": [
       "array([0.99197312, 0.99346649, 0.9924398 , 0.99094558, 0.99234575])"
      ]
     },
     "execution_count": 19,
     "metadata": {},
     "output_type": "execute_result"
    }
   ],
   "source": [
    "cross_val_score(rf_clf_20, X_train, y_train, cv=5, scoring=\"accuracy\")"
   ]
  },
  {
   "cell_type": "code",
   "execution_count": 20,
   "id": "8109a73a",
   "metadata": {
    "ExecuteTime": {
     "end_time": "2023-01-08T13:05:08.291736Z",
     "start_time": "2023-01-08T13:01:15.341331Z"
    },
    "scrolled": true
   },
   "outputs": [
    {
     "data": {
      "text/plain": [
       "array([0.99533321, 0.99467986, 0.99561322, 0.99598619, 0.99598619])"
      ]
     },
     "execution_count": 20,
     "metadata": {},
     "output_type": "execute_result"
    }
   ],
   "source": [
    "cross_val_score(rf_clf_40, X_train, y_train, cv=5, scoring=\"accuracy\")"
   ]
  },
  {
   "cell_type": "code",
   "execution_count": 16,
   "id": "35285ad9",
   "metadata": {
    "ExecuteTime": {
     "end_time": "2023-01-08T12:41:13.599263Z",
     "start_time": "2023-01-08T12:32:53.340132Z"
    }
   },
   "outputs": [
    {
     "data": {
      "text/plain": [
       "array([0.99691992, 0.99579989, 0.9973866 , 0.99607953, 0.99635956])"
      ]
     },
     "execution_count": 16,
     "metadata": {},
     "output_type": "execute_result"
    }
   ],
   "source": [
    "cross_val_score(rf_clf_80, X_train, y_train, cv=5, scoring=\"accuracy\")"
   ]
  },
  {
   "cell_type": "code",
   "execution_count": 24,
   "id": "1df4006a",
   "metadata": {
    "ExecuteTime": {
     "end_time": "2023-01-08T13:05:46.595626Z",
     "start_time": "2023-01-08T13:05:46.577619Z"
    }
   },
   "outputs": [
    {
     "data": {
      "text/plain": [
       "0.95652229"
      ]
     },
     "execution_count": 24,
     "metadata": {},
     "output_type": "execute_result"
    }
   ],
   "source": [
    "np.mean([0.95146537, 0.96453239, 0.96761247, 0.95342108, 0.94558014])"
   ]
  },
  {
   "cell_type": "code",
   "execution_count": 25,
   "id": "0395d292",
   "metadata": {
    "ExecuteTime": {
     "end_time": "2023-01-08T13:05:53.069940Z",
     "start_time": "2023-01-08T13:05:53.055364Z"
    }
   },
   "outputs": [
    {
     "data": {
      "text/plain": [
       "0.982433498"
      ]
     },
     "execution_count": 25,
     "metadata": {},
     "output_type": "execute_result"
    }
   ],
   "source": [
    "np.mean([0.9838529 , 0.98394624, 0.98179951, 0.98291795, 0.97965089])"
   ]
  },
  {
   "cell_type": "code",
   "execution_count": 26,
   "id": "7ad72af2",
   "metadata": {
    "ExecuteTime": {
     "end_time": "2023-01-08T13:05:53.069940Z",
     "start_time": "2023-01-08T13:05:53.055364Z"
    }
   },
   "outputs": [
    {
     "data": {
      "text/plain": [
       "0.992234148"
      ]
     },
     "execution_count": 26,
     "metadata": {},
     "output_type": "execute_result"
    }
   ],
   "source": [
    "np.mean([0.99197312, 0.99346649, 0.9924398 , 0.99094558, 0.99234575])"
   ]
  },
  {
   "cell_type": "code",
   "execution_count": 27,
   "id": "c3a68bbf",
   "metadata": {
    "ExecuteTime": {
     "end_time": "2023-01-08T13:05:53.069940Z",
     "start_time": "2023-01-08T13:05:53.055364Z"
    }
   },
   "outputs": [
    {
     "data": {
      "text/plain": [
       "0.9955197339999999"
      ]
     },
     "execution_count": 27,
     "metadata": {},
     "output_type": "execute_result"
    }
   ],
   "source": [
    "np.mean([0.99533321, 0.99467986, 0.99561322, 0.99598619, 0.99598619])"
   ]
  },
  {
   "cell_type": "code",
   "execution_count": 28,
   "id": "097ca4fc",
   "metadata": {
    "ExecuteTime": {
     "end_time": "2023-01-08T13:05:53.069940Z",
     "start_time": "2023-01-08T13:05:53.055364Z"
    }
   },
   "outputs": [
    {
     "data": {
      "text/plain": [
       "0.9965091000000001"
      ]
     },
     "execution_count": 28,
     "metadata": {},
     "output_type": "execute_result"
    }
   ],
   "source": [
    "np.mean([0.99691992, 0.99579989, 0.9973866 , 0.99607953, 0.99635956])"
   ]
  },
  {
   "cell_type": "code",
   "execution_count": null,
   "id": "ee3442ce",
   "metadata": {},
   "outputs": [],
   "source": []
  }
 ],
 "metadata": {
  "kernelspec": {
   "display_name": "Python 3 (ipykernel)",
   "language": "python",
   "name": "python3"
  },
  "language_info": {
   "codemirror_mode": {
    "name": "ipython",
    "version": 3
   },
   "file_extension": ".py",
   "mimetype": "text/x-python",
   "name": "python",
   "nbconvert_exporter": "python",
   "pygments_lexer": "ipython3",
   "version": "3.7.15"
  }
 },
 "nbformat": 4,
 "nbformat_minor": 5
}
